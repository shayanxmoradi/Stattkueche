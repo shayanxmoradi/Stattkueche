{
 "cells": [
  {
   "cell_type": "code",
   "id": "initial_id",
   "metadata": {
    "collapsed": true,
    "ExecuteTime": {
     "end_time": "2025-07-22T13:48:11.498581Z",
     "start_time": "2025-07-22T13:48:09.050936Z"
    }
   },
   "source": [
    "%load_ext cuml.accel\n",
    "%load_ext cudf.pandas\n",
    "import pandas as pd\n",
    "import numpy as np\n",
    "import matplotlib.pyplot as plt\n",
    "import seaborn as sns"
   ],
   "outputs": [
    {
     "name": "stdout",
     "output_type": "stream",
     "text": [
      "cuML: Accelerator installed.\n"
     ]
    }
   ],
   "execution_count": 1
  },
  {
   "metadata": {
    "ExecuteTime": {
     "end_time": "2025-07-22T13:48:11.620554Z",
     "start_time": "2025-07-22T13:48:11.617697Z"
    }
   },
   "cell_type": "code",
   "source": [
    "# #-----------------------------------------------------\n",
    "# ## convert to parquet\n",
    "# # مسیر فایل CSV اولیه\n",
    "# csv_path = \"AnnonymData.csv\"\n",
    "# # مسیر خروجی Parquet\n",
    "# parquet_path = \"AnnonymData.parquet\"\n",
    "#\n",
    "# # یک‌بار: تبدیل CSV به Parquet\n",
    "# gdf_initial = pd.read_csv(csv_path)\n",
    "# gdf_initial.to_parquet(parquet_path, compression=\"snappy\")\n",
    "# #-----------------------------------------------------\n"
   ],
   "id": "a80a16a401a32518",
   "outputs": [],
   "execution_count": 2
  },
  {
   "metadata": {
    "ExecuteTime": {
     "end_time": "2025-07-22T13:48:12.830266Z",
     "start_time": "2025-07-22T13:48:11.671075Z"
    }
   },
   "cell_type": "code",
   "source": [
    "data = pd.read_parquet('AnnonymData.parquet')\n",
    "df =pd.DataFrame(data)\n",
    "df = df.drop(columns=['OrderId' , 'TransactionId','BookingNr'] , axis=1)\n",
    "print( 'Data frame dimensions: ',df.shape)\n",
    "df.head(3)"
   ],
   "id": "fe78b8e50bebcb5a",
   "outputs": [
    {
     "name": "stdout",
     "output_type": "stream",
     "text": [
      "Data frame dimensions:  (6538739, 11)\n"
     ]
    },
    {
     "data": {
      "text/plain": [
       "  DateOfService          DateOfOrder  OrderQty                     MenuName  \\\n",
       "0    2020-01-02  2020-02-05 11:54:08         1             Mittagessen (Gs)   \n",
       "1    2020-01-02  2019-12-16 10:30:51         1  Smart Eating Buffet (WGrus)   \n",
       "2    2020-01-02  2019-12-16 10:31:33         1  Smart Eating Buffet (WGrus)   \n",
       "\n",
       "  MenuPrice MenuSubsidy                       GroupName  CanceledQty  \\\n",
       "0      3,10        0,00        xxx3,45€ normal 5T (68€)            0   \n",
       "1      0,00        3,50          Steinfurt Abo ermäßigt            0   \n",
       "2      2,90        0,60  Westerkappeln Grundschüler Abo            0   \n",
       "\n",
       "  DateOfCancel Site SchoolID  \n",
       "0         <NA>   LP   SCH001  \n",
       "1         <NA>   BK   SCH002  \n",
       "2         <NA>   BK   SCH002  "
      ],
      "text/html": [
       "<div>\n",
       "<style scoped>\n",
       "    .dataframe tbody tr th:only-of-type {\n",
       "        vertical-align: middle;\n",
       "    }\n",
       "\n",
       "    .dataframe tbody tr th {\n",
       "        vertical-align: top;\n",
       "    }\n",
       "\n",
       "    .dataframe thead th {\n",
       "        text-align: right;\n",
       "    }\n",
       "</style>\n",
       "<table border=\"1\" class=\"dataframe\">\n",
       "  <thead>\n",
       "    <tr style=\"text-align: right;\">\n",
       "      <th></th>\n",
       "      <th>DateOfService</th>\n",
       "      <th>DateOfOrder</th>\n",
       "      <th>OrderQty</th>\n",
       "      <th>MenuName</th>\n",
       "      <th>MenuPrice</th>\n",
       "      <th>MenuSubsidy</th>\n",
       "      <th>GroupName</th>\n",
       "      <th>CanceledQty</th>\n",
       "      <th>DateOfCancel</th>\n",
       "      <th>Site</th>\n",
       "      <th>SchoolID</th>\n",
       "    </tr>\n",
       "  </thead>\n",
       "  <tbody>\n",
       "    <tr>\n",
       "      <th>0</th>\n",
       "      <td>2020-01-02</td>\n",
       "      <td>2020-02-05 11:54:08</td>\n",
       "      <td>1</td>\n",
       "      <td>Mittagessen (Gs)</td>\n",
       "      <td>3,10</td>\n",
       "      <td>0,00</td>\n",
       "      <td>xxx3,45€ normal 5T (68€)</td>\n",
       "      <td>0</td>\n",
       "      <td>&lt;NA&gt;</td>\n",
       "      <td>LP</td>\n",
       "      <td>SCH001</td>\n",
       "    </tr>\n",
       "    <tr>\n",
       "      <th>1</th>\n",
       "      <td>2020-01-02</td>\n",
       "      <td>2019-12-16 10:30:51</td>\n",
       "      <td>1</td>\n",
       "      <td>Smart Eating Buffet (WGrus)</td>\n",
       "      <td>0,00</td>\n",
       "      <td>3,50</td>\n",
       "      <td>Steinfurt Abo ermäßigt</td>\n",
       "      <td>0</td>\n",
       "      <td>&lt;NA&gt;</td>\n",
       "      <td>BK</td>\n",
       "      <td>SCH002</td>\n",
       "    </tr>\n",
       "    <tr>\n",
       "      <th>2</th>\n",
       "      <td>2020-01-02</td>\n",
       "      <td>2019-12-16 10:31:33</td>\n",
       "      <td>1</td>\n",
       "      <td>Smart Eating Buffet (WGrus)</td>\n",
       "      <td>2,90</td>\n",
       "      <td>0,60</td>\n",
       "      <td>Westerkappeln Grundschüler Abo</td>\n",
       "      <td>0</td>\n",
       "      <td>&lt;NA&gt;</td>\n",
       "      <td>BK</td>\n",
       "      <td>SCH002</td>\n",
       "    </tr>\n",
       "  </tbody>\n",
       "</table>\n",
       "</div>"
      ]
     },
     "execution_count": 3,
     "metadata": {},
     "output_type": "execute_result"
    }
   ],
   "execution_count": 3
  },
  {
   "metadata": {
    "ExecuteTime": {
     "end_time": "2025-07-22T13:48:13.446831Z",
     "start_time": "2025-07-22T13:48:13.441176Z"
    }
   },
   "cell_type": "code",
   "source": "df.columns",
   "id": "bcb412f832cc50b1",
   "outputs": [
    {
     "data": {
      "text/plain": [
       "Index(['DateOfService', 'DateOfOrder', 'OrderQty', 'MenuName', 'MenuPrice',\n",
       "       'MenuSubsidy', 'GroupName', 'CanceledQty', 'DateOfCancel', 'Site',\n",
       "       'SchoolID'],\n",
       "      dtype='object')"
      ]
     },
     "execution_count": 4,
     "metadata": {},
     "output_type": "execute_result"
    }
   ],
   "execution_count": 4
  },
  {
   "metadata": {
    "ExecuteTime": {
     "end_time": "2025-07-22T13:48:13.952457Z",
     "start_time": "2025-07-22T13:48:13.915569Z"
    }
   },
   "cell_type": "code",
   "source": [
    "missing_data = df.isna().sum()\n",
    "missing_data = missing_data[missing_data > 0]\n",
    "print(missing_data)"
   ],
   "id": "776b16f3f14fb769",
   "outputs": [
    {
     "name": "stdout",
     "output_type": "stream",
     "text": [
      "DateOfCancel    5604260\n",
      "Site             846012\n",
      "dtype: int64\n"
     ]
    }
   ],
   "execution_count": 5
  },
  {
   "metadata": {},
   "cell_type": "markdown",
   "source": "If the value of the DateOfCancel column in a row is null, is the value of the CanceledQty column also zero in the same row? If not, return the rows that do not meet this condition.",
   "id": "69dfd8adefc1176f"
  },
  {
   "metadata": {
    "ExecuteTime": {
     "end_time": "2025-07-22T13:48:14.571201Z",
     "start_time": "2025-07-22T13:48:14.568446Z"
    }
   },
   "cell_type": "code",
   "source": [
    "# violations = df[df['DateOfCancel'].isnull() & (df['CanceledQty'] != 0)]\n",
    "# print(violations)"
   ],
   "id": "8c7409553a5e2c19",
   "outputs": [],
   "execution_count": 6
  },
  {
   "metadata": {
    "ExecuteTime": {
     "end_time": "2025-07-22T13:48:17.804176Z",
     "start_time": "2025-07-22T13:48:14.920595Z"
    }
   },
   "cell_type": "code",
   "source": [
    "\n",
    "df['DateOfService']  = pd.to_datetime(df['DateOfService'] ,errors='coerce')\n",
    "df['DateOfOrder']    = pd.to_datetime(df['DateOfOrder'], errors='coerce')\n",
    "df['DateOfCancel']   = pd.to_datetime(df['DateOfCancel'], errors='coerce')\n",
    "\n",
    "df['MenuPrice'] = pd.to_numeric(df['MenuPrice'].str.replace(',', '.'), errors='coerce').astype(float)\n",
    "df['MenuSubsidy'] = pd.to_numeric(df['MenuSubsidy'].str.replace(',', '.'), errors='coerce').astype(float)\n",
    "df['OrderQty'] = df['OrderQty'].astype(int)\n",
    "df['CanceledQty'] = df['CanceledQty'].astype(int)\n",
    "\n",
    "# df['IsCanceled'] = df['DateOfCancel'].notna().astype(int)  # 1 اگر کنسلی شده (تاریخ داره)، 0 اگر نه (NaN)\n",
    "\n",
    "# فقط ردیف‌هایی را نگه می‌داریم که تعداد سفارش بزرگتر یا مساوی تعداد لغو شده باشد\n",
    "df = df[df['OrderQty'] >= df['CanceledQty']]\n",
    "\n",
    "# ردیف‌ها را در دو حالت نگه می‌داریم:\n",
    "# 1. سفارش اصلاً لغو نشده باشد (DateOfCancel خالی است)\n",
    "# 2. یا اگر لغو شده، تاریخ لغو آن قبل یا مساوی تاریخ سرویس باشد\n",
    "df = df[(df['DateOfCancel'].isna()) | (df['DateOfCancel'] <= df['DateOfService'])]\n",
    "\n",
    "# تاریخ سرویس باید از تاریخ سفارش بزرگتر باشد\n",
    "df = df[df['DateOfService'] >= df['DateOfOrder']]\n",
    "\n",
    "\n",
    "df = df.dropna(subset=['Site'])\n",
    "\n",
    "\n",
    "\n",
    "# df = df.drop(columns=['DateOfCancel'])\n",
    "df = df.sort_values(by='DateOfOrder', ascending=True)\n",
    "\n",
    "df = df.reset_index(drop=True)\n",
    "print( 'Data frame dimensions: ',df.shape)\n",
    "df.head(5)\n"
   ],
   "id": "279fa4c99c581a97",
   "outputs": [
    {
     "name": "stdout",
     "output_type": "stream",
     "text": [
      "Data frame dimensions:  (3888273, 11)\n"
     ]
    },
    {
     "data": {
      "text/plain": [
       "  DateOfService         DateOfOrder  OrderQty          MenuName  MenuPrice  \\\n",
       "0    2020-01-02 2019-12-02 20:39:46         1  Mittagessen (BS)       3.05   \n",
       "1    2020-01-03 2019-12-02 20:39:46         1  Mittagessen (BS)       3.05   \n",
       "2    2020-01-02 2019-12-03 22:29:24         1  Mittagessen (BS)       3.05   \n",
       "3    2020-01-02 2019-12-04 13:27:22         1  Mittagessen (BS)       3.05   \n",
       "4    2020-01-03 2019-12-04 13:27:22         1  Mittagessen (BS)       3.05   \n",
       "\n",
       "   MenuSubsidy       GroupName  CanceledQty DateOfCancel Site SchoolID  \n",
       "0          0.0  Bad Sassendorf            0          NaT   LP   SCH003  \n",
       "1          0.0  Bad Sassendorf            0          NaT   LP   SCH003  \n",
       "2          0.0  Bad Sassendorf            0          NaT   LP   SCH003  \n",
       "3          0.0  Bad Sassendorf            0          NaT   LP   SCH003  \n",
       "4          0.0  Bad Sassendorf            0          NaT   LP   SCH003  "
      ],
      "text/html": [
       "<div>\n",
       "<style scoped>\n",
       "    .dataframe tbody tr th:only-of-type {\n",
       "        vertical-align: middle;\n",
       "    }\n",
       "\n",
       "    .dataframe tbody tr th {\n",
       "        vertical-align: top;\n",
       "    }\n",
       "\n",
       "    .dataframe thead th {\n",
       "        text-align: right;\n",
       "    }\n",
       "</style>\n",
       "<table border=\"1\" class=\"dataframe\">\n",
       "  <thead>\n",
       "    <tr style=\"text-align: right;\">\n",
       "      <th></th>\n",
       "      <th>DateOfService</th>\n",
       "      <th>DateOfOrder</th>\n",
       "      <th>OrderQty</th>\n",
       "      <th>MenuName</th>\n",
       "      <th>MenuPrice</th>\n",
       "      <th>MenuSubsidy</th>\n",
       "      <th>GroupName</th>\n",
       "      <th>CanceledQty</th>\n",
       "      <th>DateOfCancel</th>\n",
       "      <th>Site</th>\n",
       "      <th>SchoolID</th>\n",
       "    </tr>\n",
       "  </thead>\n",
       "  <tbody>\n",
       "    <tr>\n",
       "      <th>0</th>\n",
       "      <td>2020-01-02</td>\n",
       "      <td>2019-12-02 20:39:46</td>\n",
       "      <td>1</td>\n",
       "      <td>Mittagessen (BS)</td>\n",
       "      <td>3.05</td>\n",
       "      <td>0.0</td>\n",
       "      <td>Bad Sassendorf</td>\n",
       "      <td>0</td>\n",
       "      <td>NaT</td>\n",
       "      <td>LP</td>\n",
       "      <td>SCH003</td>\n",
       "    </tr>\n",
       "    <tr>\n",
       "      <th>1</th>\n",
       "      <td>2020-01-03</td>\n",
       "      <td>2019-12-02 20:39:46</td>\n",
       "      <td>1</td>\n",
       "      <td>Mittagessen (BS)</td>\n",
       "      <td>3.05</td>\n",
       "      <td>0.0</td>\n",
       "      <td>Bad Sassendorf</td>\n",
       "      <td>0</td>\n",
       "      <td>NaT</td>\n",
       "      <td>LP</td>\n",
       "      <td>SCH003</td>\n",
       "    </tr>\n",
       "    <tr>\n",
       "      <th>2</th>\n",
       "      <td>2020-01-02</td>\n",
       "      <td>2019-12-03 22:29:24</td>\n",
       "      <td>1</td>\n",
       "      <td>Mittagessen (BS)</td>\n",
       "      <td>3.05</td>\n",
       "      <td>0.0</td>\n",
       "      <td>Bad Sassendorf</td>\n",
       "      <td>0</td>\n",
       "      <td>NaT</td>\n",
       "      <td>LP</td>\n",
       "      <td>SCH003</td>\n",
       "    </tr>\n",
       "    <tr>\n",
       "      <th>3</th>\n",
       "      <td>2020-01-02</td>\n",
       "      <td>2019-12-04 13:27:22</td>\n",
       "      <td>1</td>\n",
       "      <td>Mittagessen (BS)</td>\n",
       "      <td>3.05</td>\n",
       "      <td>0.0</td>\n",
       "      <td>Bad Sassendorf</td>\n",
       "      <td>0</td>\n",
       "      <td>NaT</td>\n",
       "      <td>LP</td>\n",
       "      <td>SCH003</td>\n",
       "    </tr>\n",
       "    <tr>\n",
       "      <th>4</th>\n",
       "      <td>2020-01-03</td>\n",
       "      <td>2019-12-04 13:27:22</td>\n",
       "      <td>1</td>\n",
       "      <td>Mittagessen (BS)</td>\n",
       "      <td>3.05</td>\n",
       "      <td>0.0</td>\n",
       "      <td>Bad Sassendorf</td>\n",
       "      <td>0</td>\n",
       "      <td>NaT</td>\n",
       "      <td>LP</td>\n",
       "      <td>SCH003</td>\n",
       "    </tr>\n",
       "  </tbody>\n",
       "</table>\n",
       "</div>"
      ]
     },
     "execution_count": 7,
     "metadata": {},
     "output_type": "execute_result"
    }
   ],
   "execution_count": 7
  },
  {
   "metadata": {
    "ExecuteTime": {
     "end_time": "2025-07-22T13:48:18.329729Z",
     "start_time": "2025-07-22T13:48:18.188990Z"
    }
   },
   "cell_type": "code",
   "source": [
    "def show_unique_values(df, column_name, excel_output=None):\n",
    "    if column_name in df.columns:\n",
    "        unique_values = df[column_name].value_counts()\n",
    "        print(f\"Unique values in column '{column_name}':\")\n",
    "        print(unique_values)\n",
    "\n",
    "        # Save to Excel if output path is provided\n",
    "        if excel_output:\n",
    "            # Convert to DataFrame for better Excel formatting\n",
    "            unique_df = pd.DataFrame({\n",
    "                'Value': unique_values.index,\n",
    "                'Count': unique_values.values\n",
    "            })\n",
    "            unique_df.to_excel(excel_output, index=False)\n",
    "            print(f\"\\nResults saved to Excel file: {excel_output}\")\n",
    "    else:\n",
    "        print(f\"There is no column with name '{column_name}' in the data frame.\")\n",
    "\n",
    "# استفاده از تابع برای ستون 'Name'\n",
    "show_unique_values(df, \"MenuName\" , excel_output=\"menu_name.xlsx\")"
   ],
   "id": "ff68503a1018180e",
   "outputs": [
    {
     "name": "stdout",
     "output_type": "stream",
     "text": [
      "Unique values in column 'MenuName':\n",
      "MenuName\n",
      "Mittagessen Outlaw                226158\n",
      "Smart Eating Buffet (HGS)         181046\n",
      "Mittagessen (KL)                  171590\n",
      "Smart Eating Buffet (LSS)         148734\n",
      "Smart Eating Buffet (WGrus)       139884\n",
      "                                   ...  \n",
      "Menü A (BO-Mitte)                      2\n",
      "Menü B1 (BO-Mitte)                     2\n",
      "Menü A (FSC)                           1\n",
      "Menü B2 Ohne Dessert (BOHilde)         1\n",
      "Menü C (GSZ)                           1\n",
      "Name: count, Length: 269, dtype: int64\n",
      "\n",
      "Results saved to Excel file: menu_name.xlsx\n"
     ]
    }
   ],
   "execution_count": 8
  },
  {
   "metadata": {
    "ExecuteTime": {
     "end_time": "2025-07-22T13:48:59.203087Z",
     "start_time": "2025-07-22T13:48:18.647283Z"
    }
   },
   "cell_type": "code",
   "source": [
    "import re\n",
    "\n",
    "\n",
    "def clean_text_menu(s):\n",
    "    s = s.strip()\n",
    "    s = re.sub(r'\\s+', ' ', s)             # حذف فاصله‌های اضافی\n",
    "    s = re.sub(r'[-–—]', ' ', s)            # یکدست کردن خط تیره\n",
    "    s = re.sub(r'\\s*\\([^)]*\\)', '', s)         # حذف پرانتز انتهایی\n",
    "    s = re.sub(r'[()]', '', s)                  # حذف پرانتز های مانده\n",
    "    s = s.replace('.', '')                 # ← حذف تمام نقاط\n",
    "\n",
    "\n",
    "    # اصلاح املا\n",
    "    s = re.sub(r'^Menü A', 'Menu A', s, flags=re.I)\n",
    "    s = re.sub(r'^Menue_A', 'Menu A', s, flags=re.I)\n",
    "    s = re.sub(r'^Menü B', 'Menu B', s, flags=re.I)\n",
    "    s = re.sub(r'^Menue_B1', 'Menu B1', s, flags=re.I)\n",
    "    s = re.sub(r'^Menü B1', 'Menu B1', s, flags=re.I)\n",
    "    s = re.sub(r'^Menü B1 veg', 'Menu B1 veg', s, flags=re.I)\n",
    "    s = re.sub(r'^Menü veg B1', 'Menu B1 veg', s, flags=re.I)\n",
    "    s = re.sub(r'^Menü B1 Ohne Dessert', 'Menu B1 Ohne Dessert', s, flags=re.I)\n",
    "    s = re.sub(r'^Menü C', 'Menu C', s, flags=re.I)\n",
    "    s = re.sub(r'^MENÜ C', 'Menu C', s, flags=re.I)\n",
    "    s = re.sub(r'^Menü B2', 'Menu B2', s, flags=re.I)\n",
    "    s = re.sub(r'^Menue_B2', 'Menu B2', s, flags=re.I)\n",
    "    s = re.sub(r'^Menü B2 Ohne Dessert', 'Menu B2 Ohne Dessert', s, flags=re.I)\n",
    "    s = re.sub(r'^Menu B2BRS', 'Menu B2', s, flags=re.I)\n",
    "\n",
    "    s = re.sub(r'^Menü D', 'Menu D', s, flags=re.I)\n",
    "    s = re.sub(r'^DGE MENÜ', 'Menu DGE', s, flags=re.I)\n",
    "    s = re.sub(r'^DGE Menü', 'Menu DGE', s, flags=re.I)\n",
    "    s = re.sub(r'^Musterlinie 1', 'Musterlinie', s, flags=re.I)\n",
    "    s = re.sub(r'^veganes Menülinie', 'veganes Menu', s, flags=re.I)\n",
    "    s = re.sub(r'^veganes Menü', 'veganes Menu', s, flags=re.I)\n",
    "\n",
    "\n",
    "    return s.strip()\n",
    "\n",
    "df['MenuName'] = df['MenuName'].astype(str).apply(clean_text_menu)\n",
    "\n",
    "show_unique_values(df, \"MenuName\" , excel_output=\"menu_name_cleaned.xlsx\")"
   ],
   "id": "73ab134a1e8ab827",
   "outputs": [
    {
     "name": "stdout",
     "output_type": "stream",
     "text": [
      "Unique values in column 'MenuName':\n",
      "MenuName\n",
      "Smart Eating Buffet          2460699\n",
      "Mittagessen                   401310\n",
      "Menu A                        317169\n",
      "Mittagessen Outlaw            226158\n",
      "Menu DGE                      149262\n",
      "Menu B1 veg                    78482\n",
      "Menu B1                        67196\n",
      "Menu C                         36974\n",
      "Tagesmenü                      34351\n",
      "Menu B2                        30633\n",
      "Riesenbeck                     17541\n",
      "Nudelbar                       16586\n",
      "Kiga FZ Nicolai Lippstadt      13039\n",
      "Salatbar                       10650\n",
      "Smart Eating                    7837\n",
      "Lunchpaket                      7250\n",
      "Menu A Ohne Dessert             5103\n",
      "Menu B1 Ohne Dessert            3741\n",
      "Lunchpaket vegetarisch          1584\n",
      "Menu D                          1380\n",
      "Menu B                           889\n",
      "Menu B2 Ohne Dessert             302\n",
      "veganes Menu                     131\n",
      "Musterlinie                        6\n",
      "Name: count, dtype: int64\n",
      "\n",
      "Results saved to Excel file: menu_name_cleaned.xlsx\n"
     ]
    }
   ],
   "execution_count": 9
  },
  {
   "metadata": {
    "ExecuteTime": {
     "end_time": "2025-07-22T13:48:59.855070Z",
     "start_time": "2025-07-22T13:48:59.825779Z"
    }
   },
   "cell_type": "code",
   "source": [
    "def show_unique_values(df, column_name, excel_output=None):\n",
    "    if column_name in df.columns:\n",
    "        unique_values = df[column_name].value_counts()\n",
    "        print(f\"Unique values in column '{column_name}':\")\n",
    "        print(unique_values)\n",
    "\n",
    "        # Save to Excel if output path is provided\n",
    "        if excel_output:\n",
    "            # Convert to DataFrame for better Excel formatting\n",
    "            unique_df = pd.DataFrame({\n",
    "                'Value': unique_values.index,\n",
    "                'Count': unique_values.values\n",
    "            })\n",
    "            unique_df.to_excel(excel_output, index=False)\n",
    "            print(f\"\\nResults saved to Excel file: {excel_output}\")\n",
    "    else:\n",
    "        print(f\"There is no column with name '{column_name}' in the data frame.\")\n",
    "\n",
    "# استفاده از تابع برای ستون 'Name'\n",
    "show_unique_values(df, \"GroupName\" , excel_output=\"Group_name.xlsx\")"
   ],
   "id": "b9584b041edfba76",
   "outputs": [
    {
     "name": "stdout",
     "output_type": "stream",
     "text": [
      "Unique values in column 'GroupName':\n",
      "GroupName\n",
      "Steinfurt Abo ermäßigt         194774\n",
      "Bochum Schüler                 170965\n",
      "Emsdetten Abo Schüler          163331\n",
      "Outlaw Kita                    162306\n",
      "Greven Schüler Abo             146807\n",
      "                                ...  \n",
      "Marienschule                        2\n",
      "Herten Lehrer                       1\n",
      "Oelde Lehrer                        1\n",
      "Westerkappeln Lehrer                1\n",
      "xxx3,20€ normal 4T (42,40€)         1\n",
      "Name: count, Length: 217, dtype: int64\n",
      "\n",
      "Results saved to Excel file: Group_name.xlsx\n"
     ]
    }
   ],
   "execution_count": 10
  },
  {
   "metadata": {
    "ExecuteTime": {
     "end_time": "2025-07-22T13:49:18.060997Z",
     "start_time": "2025-07-22T13:49:00.103266Z"
    }
   },
   "cell_type": "code",
   "source": [
    "import re\n",
    "\n",
    "\n",
    "def clean_text_group(s: str) -> str:\n",
    "    \"\"\"\n",
    "    این تابع یک نام گروه را به عنوان ورودی دریافت کرده و بر اساس قوانین از پیش تعریف شده،\n",
    "    آن را پاک‌سازی و به یک دسته استاندارد تبدیل می‌کند. این تابع مکان‌ها، انواع گروه‌ها\n",
    "    (دانش‌آموز، معلم)، برنامه‌های خاص (BuT) و سایر کلمات کلیدی را شناسایی می‌کند.\n",
    "    \"\"\"\n",
    "\n",
    "    # 1. پیش‌پردازش و استانداردسازی اولیه\n",
    "    text = s.strip()\n",
    "    text = re.sub(r'[-–—]', ' ', text)      # یکدست کردن خط تیره\n",
    "    text = re.sub(r'\\s*\\([^)]*\\)', '', text)  # حذف محتوای داخل پرانتز\n",
    "    text = re.sub(r'[()]', '', text)         # حذف خود پرانتز\n",
    "    text = text.replace('.', '')             # حذف نقاط\n",
    "    text = re.sub(r'\\s+', ' ', text)         # حذف فاصله‌های اضافی\n",
    "    text = text.lower()                      # تبدیل به حروف کوچک برای مقایسه بهتر\n",
    "\n",
    "    # حذف پیشوندهای فنی مانند xx یا xxx\n",
    "    text = re.sub(r'^x{2,3}', '', text).strip()\n",
    "\n",
    "    # اصلاح املای کلمات رایج قبل از بررسی\n",
    "    if ' erm' in text: # فاصله برای جلوگیری از جایگزینی در کلماتی مثل werne\n",
    "        text = text.replace(' erm', ' ermäßigt')\n",
    "    text = text.replace('grundsch', 'grundschule')\n",
    "    text = text.replace('kiga', 'kita')\n",
    "\n",
    "    # --- 2. دسته‌بندی بر اساس قوانین ---\n",
    "\n",
    "    # قانون اولویت بالا: برنامه‌های خاص\n",
    "    if 'but' in text:\n",
    "        return \"Programm: BuT\"\n",
    "    if 'corona' in text:\n",
    "        return \"Programm: Corona\"\n",
    "    if 'primus' in text:\n",
    "        return \"Programm: Primus\"\n",
    "\n",
    "    # قانون اصلی: دسته‌بندی بر اساس مکان (شهر)\n",
    "    cities = [\n",
    "        'arnsberg', 'bad sassendorf', 'beckum', 'neubeckum', 'bergkamen', 'bielefeld', 'bochum',\n",
    "        'bönen', 'borghorst', 'borken', 'datteln', 'dortmund', 'dülmen', 'emsdetten', 'enger',\n",
    "        'ennigerloh', 'essen', 'gelsenkirchen', 'gladbeck', 'greven', 'gütersloh', 'halle',\n",
    "        'hamm', 'herford', 'herne', 'herten', 'hörstel', 'riesenbeck', 'horstmar', 'kreis soest', 'soest',\n",
    "        'lippe', 'lippetal', 'lippstadt', 'lüdinghausen', 'märkischer kreis', 'münster',\n",
    "        'nordkirchen', 'oelde', 'olfen', 'ostbevern', 'recklinghausen', 'senden', 'sprockhövel',\n",
    "        'steinfurt', 'unna', 'waltrop', 'warendorf', 'werl', 'werne', 'wersen', 'wesel',\n",
    "        'westerkappeln', 'wetter', 'wickede'\n",
    "    ]\n",
    "\n",
    "    found_city = None\n",
    "    for city in cities:\n",
    "        if city in text:\n",
    "            found_city = city.title()\n",
    "            break\n",
    "\n",
    "    if found_city:\n",
    "        # اگر شهری پیدا شد، بقیه دسته‌بندی را بر اساس آن می‌سازیم\n",
    "        category_parts = []\n",
    "\n",
    "        # شناسایی نوع اصلی گروه\n",
    "        if 'schüler' in text or 'grundschule' in text:\n",
    "            category_parts.append(\"Schüler\")\n",
    "        elif 'lehrer' in text:\n",
    "            category_parts.append(\"Lehrer\")\n",
    "        elif 'kita' in text:\n",
    "            category_parts.append(\"Kita\")\n",
    "        elif 'jobcenter' in text:\n",
    "            category_parts.append(\"Jobcenter\")\n",
    "\n",
    "        # شناسایی ویژگی‌های اضافی (Modifiers)\n",
    "        if 'abo' in text:\n",
    "            category_parts.append(\"Abo\")\n",
    "        if 'ermäßigt' in text:\n",
    "            category_parts.append(\"ermäßigt\")\n",
    "\n",
    "        # اگر فقط نام شهر بود و هیچ نوع گروهی شناسایی نشد\n",
    "        if not category_parts:\n",
    "            return f\"{found_city} - Allgemein\"\n",
    "\n",
    "        # ترکیب بخش‌ها برای ساخت خروجی نهایی\n",
    "        return f\"{found_city} - {' '.join(sorted(list(set(category_parts))))}\"\n",
    "\n",
    "    # قانون بعدی: تعرفه‌ها و قیمت‌های عمومی (اگر مکان پیدا نشد)\n",
    "    if re.search(r'\\d', text) and ('€' in text or 'normal' in text or re.search(r'\\d[tT]', text)):\n",
    "        return \"Tarif / Preis\"\n",
    "\n",
    "    # قانون بعدی: گروه‌های عمومی بدون مکان\n",
    "    if 'kita' in text:\n",
    "        return \"Allgemein - Kita\"\n",
    "    if 'eltern kind' in text:\n",
    "        return \"Allgemein - Eltern Kind\"\n",
    "    if 'geschwisterkind' in text:\n",
    "        return \"Allgemein - Geschwisterkind\"\n",
    "\n",
    "    # قانون آخر: اگر هیچ‌کدام از قوانین بالا اعمال نشد\n",
    "    return \"Unkategorisiert\"\n",
    "\n",
    "\n",
    "df['GroupName'] = df['GroupName'].astype(str).apply(clean_text_group)\n",
    "\n",
    "show_unique_values(df, \"GroupName\" , excel_output=\"Group_name_cleaned.xlsx\")"
   ],
   "id": "b3331472e448146b",
   "outputs": [
    {
     "name": "stdout",
     "output_type": "stream",
     "text": [
      "Unique values in column 'GroupName':\n",
      "GroupName\n",
      "Steinfurt - Abo ermäßigt    194774\n",
      "Allgemein - Kita            192025\n",
      "Tarif / Preis               177624\n",
      "Bochum - Schüler            170965\n",
      "Emsdetten - Abo Schüler     163331\n",
      "                             ...  \n",
      "Wersen - Lehrer                  6\n",
      "Werne - Lehrer                   3\n",
      "Herten - Lehrer                  1\n",
      "Oelde - Lehrer                   1\n",
      "Westerkappeln - Lehrer           1\n",
      "Name: count, Length: 165, dtype: int64\n",
      "\n",
      "Results saved to Excel file: Group_name_cleaned.xlsx\n"
     ]
    }
   ],
   "execution_count": 11
  },
  {
   "metadata": {
    "ExecuteTime": {
     "end_time": "2025-07-22T13:49:33.973814Z",
     "start_time": "2025-07-22T13:49:18.466022Z"
    }
   },
   "cell_type": "code",
   "source": [
    "from sklearn.preprocessing import OrdinalEncoder, MinMaxScaler\n",
    "\n",
    "categorical_cols = ['MenuName','GroupName','Site','SchoolID']\n",
    "numerical_cols = ['MenuPrice' , 'MenuSubsidy']\n",
    "date_cols = ['DateOfService','DateOfOrder']\n",
    "\n",
    "# ایجاد X و Y\n",
    "X = df.drop(columns=['OrderQty'], axis=1)\n",
    "Y = df['OrderQty'].values.ravel()\n",
    "\n",
    "# ایجاد مپینگ برای ستون‌های کتگوریکال\n",
    "label_mapping = {}\n",
    "for col in categorical_cols:\n",
    "    unique_values = sorted(X[col].unique())\n",
    "    label_mapping[col] = {val: idx for idx, val in enumerate(unique_values)}\n",
    "\n",
    "# ایجاد لیست دسته‌بندی‌ها برای OrdinalEncoder\n",
    "categories_list = []\n",
    "for col in categorical_cols:\n",
    "    mapping = label_mapping[col]\n",
    "    categories = [k for k, v in sorted(mapping.items(), key=lambda item: item[1])]\n",
    "    categories_list.append(categories)\n",
    "print(label_mapping)\n",
    "\n",
    "# Saving the label mapping as a CSV file\n",
    "mapping_df_list = []\n",
    "\n",
    "for i, mapping in label_mapping.items():\n",
    "    temp_df = pd.DataFrame(list(mapping.items()), columns=['Original_Value', 'Encoded_Value'])\n",
    "    temp_df['column_Name'] = i\n",
    "    mapping_df_list.append(temp_df)\n",
    "\n",
    "final_mapping_df = pd.concat(mapping_df_list)\n",
    "csv_mapping_file_path = 'label_mapping.csv'\n",
    "final_mapping_df.to_csv(csv_mapping_file_path, index=False)\n",
    "\n",
    "print(csv_mapping_file_path)\n",
    "\n",
    "\n",
    "\n",
    "# 1) Encode ستون‌های کتگوریکال\n",
    "ordinal_encoder = OrdinalEncoder(categories=categories_list)\n",
    "df[categorical_cols] = ordinal_encoder.fit_transform(df[categorical_cols])\n",
    "\n",
    "\n",
    "\n"
   ],
   "id": "8cf385ddb5f8ad7f",
   "outputs": [
    {
     "name": "stdout",
     "output_type": "stream",
     "text": [
      "{'MenuName': {'Kiga FZ Nicolai Lippstadt': 0, 'Lunchpaket': 1, 'Lunchpaket vegetarisch': 2, 'Menu A': 3, 'Menu A Ohne Dessert': 4, 'Menu B': 5, 'Menu B1': 6, 'Menu B1 Ohne Dessert': 7, 'Menu B1 veg': 8, 'Menu B2': 9, 'Menu B2 Ohne Dessert': 10, 'Menu C': 11, 'Menu D': 12, 'Menu DGE': 13, 'Mittagessen': 14, 'Mittagessen Outlaw': 15, 'Musterlinie': 16, 'Nudelbar': 17, 'Riesenbeck': 18, 'Salatbar': 19, 'Smart Eating': 20, 'Smart Eating Buffet': 21, 'Tagesmenü': 22, 'veganes Menu': 23}, 'GroupName': {'Allgemein - Kita': 0, 'Arnsberg - ermäßigt': 1, 'Bad Sassendorf - Allgemein': 2, 'Bad Sassendorf - Kita': 3, 'Bad Sassendorf - ermäßigt': 4, 'Beckum - Abo': 5, 'Beckum - Allgemein': 6, 'Beckum - Lehrer': 7, 'Beckum - Schüler': 8, 'Bergkamen - Abo Schüler': 9, 'Bergkamen - Schüler': 10, 'Bielefeld - Abo': 11, 'Bielefeld - Allgemein': 12, 'Bielefeld - Jobcenter': 13, 'Bielefeld - Lehrer': 14, 'Bielefeld - Schüler': 15, 'Bochum - Abo': 16, 'Bochum - Schüler': 17, 'Borghorst - Abo Lehrer': 18, 'Borghorst - Abo Schüler': 19, 'Borghorst - Lehrer': 20, 'Borghorst - Schüler': 21, 'Borken - Abo': 22, 'Borken - Abo ermäßigt': 23, 'Borken - Lehrer': 24, 'Borken - Schüler': 25, 'Borken - ermäßigt': 26, 'Bönen - Schüler': 27, 'Datteln - Abo Schüler': 28, 'Datteln - Abo ermäßigt': 29, 'Datteln - Schüler': 30, 'Datteln - ermäßigt': 31, 'Dortmund - Abo Schüler': 32, 'Dortmund - Abo ermäßigt': 33, 'Dortmund - Schüler': 34, 'Dortmund - ermäßigt': 35, 'Dülmen - Schüler': 36, 'Dülmen - ermäßigt': 37, 'Emsdetten - Abo Lehrer': 38, 'Emsdetten - Abo Schüler': 39, 'Emsdetten - Lehrer': 40, 'Emsdetten - Schüler': 41, 'Enger - Abo': 42, 'Enger - Lehrer': 43, 'Enger - Schüler': 44, 'Ennigerloh - Abo': 45, 'Ennigerloh - Lehrer': 46, 'Ennigerloh - Schüler': 47, 'Ennigerloh - ermäßigt': 48, 'Essen - Abo ermäßigt': 49, 'Essen - ermäßigt': 50, 'Gelsenkirchen - Abo': 51, 'Gelsenkirchen - Abo ermäßigt': 52, 'Gelsenkirchen - Schüler': 53, 'Gelsenkirchen - ermäßigt': 54, 'Gladbeck - Abo ermäßigt': 55, 'Gladbeck - Lehrer': 56, 'Gladbeck - Schüler': 57, 'Gladbeck - ermäßigt': 58, 'Greven - Abo Schüler': 59, 'Greven - Schüler': 60, 'Gütersloh - Lehrer': 61, 'Gütersloh - Schüler': 62, 'Gütersloh - ermäßigt': 63, 'Halle - Schüler': 64, 'Hamm - Allgemein': 65, 'Hamm - ermäßigt': 66, 'Herford - Abo ermäßigt': 67, 'Herford - ermäßigt': 68, 'Herne - ermäßigt': 69, 'Herten - Abo Schüler': 70, 'Herten - Abo ermäßigt': 71, 'Herten - Lehrer': 72, 'Herten - Schüler': 73, 'Herten - ermäßigt': 74, 'Horstmar - Lehrer': 75, 'Horstmar - Schüler': 76, 'Hörstel - Abo': 77, 'Hörstel - Abo Lehrer': 78, 'Hörstel - Abo Schüler': 79, 'Hörstel - Allgemein': 80, 'Hörstel - Lehrer': 81, 'Hörstel - Schüler': 82, 'Kreis Soest - Abo ermäßigt': 83, 'Kreis Soest - ermäßigt': 84, 'Lippe - Abo': 85, 'Lippe - Abo ermäßigt': 86, 'Lippe - Jobcenter': 87, 'Lippe - Schüler': 88, 'Lippe - ermäßigt': 89, 'Lippstadt - Allgemein': 90, 'Lippstadt - Kita': 91, 'Lippstadt - ermäßigt': 92, 'Lüdinghausen - Abo': 93, 'Lüdinghausen - Abo ermäßigt': 94, 'Lüdinghausen - Lehrer': 95, 'Lüdinghausen - Schüler': 96, 'Lüdinghausen - ermäßigt': 97, 'Märkischer Kreis - Abo ermäßigt': 98, 'Märkischer Kreis - ermäßigt': 99, 'Münster - Lehrer': 100, 'Münster - Schüler': 101, 'Münster - ermäßigt': 102, 'Nordkirchen - ermäßigt': 103, 'Oelde - Abo': 104, 'Oelde - Lehrer': 105, 'Oelde - Schüler': 106, 'Oelde - ermäßigt': 107, 'Olfen - Abo Schüler': 108, 'Olfen - Abo ermäßigt': 109, 'Olfen - Schüler': 110, 'Olfen - ermäßigt': 111, 'Ostbevern - Abo Lehrer': 112, 'Ostbevern - Abo Schüler': 113, 'Ostbevern - Lehrer': 114, 'Ostbevern - Schüler': 115, 'Programm: BuT': 116, 'Programm: Corona': 117, 'Programm: Primus': 118, 'Recklinghausen - ermäßigt': 119, 'Riesenbeck - Allgemein': 120, 'Senden - Lehrer': 121, 'Senden - Schüler': 122, 'Senden - ermäßigt': 123, 'Soest - Kita': 124, 'Sprockhövel - Lehrer': 125, 'Sprockhövel - Schüler': 126, 'Steinfurt - Abo ermäßigt': 127, 'Steinfurt - ermäßigt': 128, 'Tarif / Preis': 129, 'Unkategorisiert': 130, 'Unna - Abo ermäßigt': 131, 'Unna - Jobcenter': 132, 'Unna - ermäßigt': 133, 'Waltrop - Abo': 134, 'Warendorf - Abo ermäßigt': 135, 'Warendorf - ermäßigt': 136, 'Werl - Abo Schüler': 137, 'Werl - Abo ermäßigt': 138, 'Werl - Schüler': 139, 'Werne - Abo Lehrer': 140, 'Werne - Abo Schüler': 141, 'Werne - Lehrer': 142, 'Werne - Schüler': 143, 'Wersen - Abo Schüler': 144, 'Wersen - Lehrer': 145, 'Wersen - Schüler': 146, 'Wesel - Abo': 147, 'Wesel - Abo ermäßigt': 148, 'Wesel - Allgemein': 149, 'Wesel - Lehrer': 150, 'Wesel - Schüler': 151, 'Wesel - ermäßigt': 152, 'Westerkappeln - Abo Lehrer': 153, 'Westerkappeln - Abo Schüler': 154, 'Westerkappeln - Lehrer': 155, 'Westerkappeln - Schüler': 156, 'Wetter - Schüler': 157, 'Wetter - ermäßigt': 158, 'Wickede - Abo Lehrer': 159, 'Wickede - Abo Schüler': 160, 'Wickede - Abo ermäßigt': 161, 'Wickede - Lehrer': 162, 'Wickede - Schüler': 163, 'Wickede - ermäßigt': 164}, 'Site': {'BK': 0, 'LP': 1, 'MS': 2}, 'SchoolID': {'SCH001': 0, 'SCH002': 1, 'SCH003': 2, 'SCH004': 3, 'SCH005': 4, 'SCH006': 5, 'SCH007': 6, 'SCH008': 7, 'SCH009': 8, 'SCH010': 9, 'SCH011': 10, 'SCH012': 11, 'SCH013': 12, 'SCH014': 13, 'SCH016': 14, 'SCH017': 15, 'SCH020': 16, 'SCH021': 17, 'SCH022': 18, 'SCH023': 19, 'SCH024': 20, 'SCH025': 21, 'SCH027': 22, 'SCH028': 23, 'SCH029': 24, 'SCH031': 25, 'SCH032': 26, 'SCH035': 27, 'SCH036': 28, 'SCH037': 29, 'SCH039': 30, 'SCH040': 31, 'SCH042': 32, 'SCH043': 33, 'SCH045': 34, 'SCH047': 35, 'SCH048': 36, 'SCH049': 37, 'SCH050': 38, 'SCH051': 39, 'SCH052': 40, 'SCH053': 41, 'SCH055': 42, 'SCH056': 43, 'SCH057': 44, 'SCH058': 45, 'SCH059': 46, 'SCH061': 47, 'SCH062': 48, 'SCH064': 49, 'SCH065': 50, 'SCH066': 51, 'SCH067': 52, 'SCH068': 53, 'SCH069': 54, 'SCH070': 55, 'SCH071': 56, 'SCH072': 57, 'SCH073': 58, 'SCH074': 59, 'SCH075': 60, 'SCH076': 61, 'SCH077': 62, 'SCH078': 63, 'SCH079': 64, 'SCH081': 65, 'SCH082': 66, 'SCH083': 67, 'SCH084': 68, 'SCH085': 69, 'SCH087': 70, 'SCH088': 71, 'SCH089': 72, 'SCH091': 73, 'SCH092': 74, 'SCH093': 75, 'SCH095': 76, 'SCH097': 77, 'SCH098': 78, 'SCH099': 79, 'SCH100': 80, 'SCH101': 81, 'SCH102': 82, 'SCH103': 83, 'SCH104': 84, 'SCH105': 85, 'SCH106': 86, 'SCH107': 87, 'SCH108': 88, 'SCH109': 89, 'SCH110': 90, 'SCH111': 91, 'SCH112': 92, 'SCH113': 93, 'SCH114': 94, 'SCH115': 95, 'SCH116': 96, 'SCH117': 97, 'SCH118': 98, 'SCH119': 99, 'SCH120': 100, 'SCH121': 101, 'SCH122': 102, 'SCH123': 103, 'SCH124': 104, 'SCH125': 105, 'SCH126': 106, 'SCH127': 107, 'SCH128': 108, 'SCH129': 109, 'SCH130': 110, 'SCH131': 111, 'SCH132': 112, 'SCH133': 113, 'SCH134': 114, 'SCH135': 115, 'SCH136': 116, 'SCH137': 117, 'SCH138': 118, 'SCH139': 119, 'SCH140': 120, 'SCH141': 121, 'SCH142': 122, 'SCH143': 123, 'SCH144': 124, 'SCH145': 125, 'SCH146': 126, 'SCH147': 127, 'SCH148': 128, 'SCH149': 129, 'SCH150': 130, 'SCH151': 131, 'SCH152': 132, 'SCH153': 133, 'SCH154': 134}}\n",
      "label_mapping.csv\n"
     ]
    }
   ],
   "execution_count": 12
  },
  {
   "metadata": {
    "ExecuteTime": {
     "end_time": "2025-07-22T13:49:44.964356Z",
     "start_time": "2025-07-22T13:49:34.371083Z"
    }
   },
   "cell_type": "code",
   "source": "df.to_csv('clear.csv',index=False, date_format='%Y-%m-%d')",
   "id": "ca9c1148c887da50",
   "outputs": [],
   "execution_count": 13
  },
  {
   "metadata": {},
   "cell_type": "code",
   "outputs": [],
   "execution_count": null,
   "source": "",
   "id": "ffe16e454fec1078"
  },
  {
   "metadata": {},
   "cell_type": "code",
   "outputs": [],
   "execution_count": null,
   "source": "",
   "id": "e2e9ae43203433f5"
  },
  {
   "metadata": {},
   "cell_type": "code",
   "outputs": [],
   "execution_count": null,
   "source": "",
   "id": "b71328e3aeb89e05"
  },
  {
   "metadata": {},
   "cell_type": "code",
   "outputs": [],
   "execution_count": null,
   "source": "",
   "id": "3471b78c9801206e"
  },
  {
   "metadata": {
    "ExecuteTime": {
     "end_time": "2025-07-19T16:36:07.346591687Z",
     "start_time": "2025-07-19T16:27:36.620610Z"
    }
   },
   "cell_type": "code",
   "source": [
    "categorical_cols = ['MenuName','GroupName','Site','SchoolID']\n",
    "\n",
    "\n",
    "import featuretools as ft\n",
    "\n",
    "# 1. افزودن یک شناسه منحصر به فرد به دیتافریم اصلی\n",
    "df['order_id'] = df.index\n",
    "\n",
    "# 2. ساخت EntitySet\n",
    "es = ft.EntitySet(id='orders_dataset')\n",
    "\n",
    "# 3. افزودن دیتافریم با استفاده از متد جدید .add_dataframe\n",
    "es = es.add_dataframe(\n",
    "    dataframe_name='orders',\n",
    "    dataframe=df,\n",
    "    index='order_id',\n",
    "    time_index='DateOfOrder'\n",
    ")\n",
    "\n",
    "# 4. اجرای Deep Feature Synthesis (DFS) برای ساخت ویژگی‌های جدید\n",
    "feature_matrix, feature_defs = ft.dfs(\n",
    "    entityset=es,\n",
    "    target_dataframe_name='orders',\n",
    "    trans_primitives=['day', 'month', 'year', 'weekday', 'is_weekend'],\n",
    "    max_depth= 1,\n",
    "    verbose=1\n",
    ")\n",
    "\n",
    "# 5. ادغام ویژگی‌های جدید به دیتافریم اصلی و حذف ستون‌های غیرضروری\n",
    "# ابتدا ستون‌هایی که در df اصلی نیستند را جدا می‌کنیم (یعنی ویژگی‌های جدید)\n",
    "new_feature_columns = feature_matrix.columns.difference(df.columns)\n",
    "\n",
    "# ویژگی‌های جدید را به دیتافریم اصلی الحاق می‌کنیم\n",
    "df = df.join(feature_matrix[new_feature_columns])\n",
    "\n",
    "# در نهایت ستون‌های تاریخ و شناسه موقت را حذف می‌کنیم\n",
    "df.drop(columns=['DateOfService', 'DateOfOrder', 'DateOfCancel', 'order_id'], inplace=True)\n",
    "\n",
    "# نمایش نتیجه نهایی\n",
    "print(\"ویژگی‌های جدید با موفقیت اضافه شدند.\")\n",
    "print(df.head())\n",
    "print('ابعاد نهایی دیتافریم:', df.shape)\n"
   ],
   "id": "36ede039b009af8e",
   "outputs": [
    {
     "name": "stderr",
     "output_type": "stream",
     "text": [
      "/home/mojtaba/miniforge3/envs/cuml/lib/python3.12/site-packages/cudf/pandas/fast_slow_proxy.py:28: UserWarning: Could not infer format, so each element will be parsed individually, falling back to `dateutil`. To ensure parsing is consistent and as-expected, please specify a format.\n",
      "  return fn(*args, **kwargs)\n",
      "/home/mojtaba/miniforge3/envs/cuml/lib/python3.12/site-packages/cudf/pandas/fast_slow_proxy.py:28: UserWarning: Could not infer format, so each element will be parsed individually, falling back to `dateutil`. To ensure parsing is consistent and as-expected, please specify a format.\n",
      "  return fn(*args, **kwargs)\n",
      "/home/mojtaba/miniforge3/envs/cuml/lib/python3.12/site-packages/cudf/pandas/fast_slow_proxy.py:28: UserWarning: Could not infer format, so each element will be parsed individually, falling back to `dateutil`. To ensure parsing is consistent and as-expected, please specify a format.\n",
      "  return fn(*args, **kwargs)\n",
      "/home/mojtaba/miniforge3/envs/cuml/lib/python3.12/site-packages/cudf/pandas/fast_slow_proxy.py:28: UserWarning: Could not infer format, so each element will be parsed individually, falling back to `dateutil`. To ensure parsing is consistent and as-expected, please specify a format.\n",
      "  return fn(*args, **kwargs)\n",
      "/home/mojtaba/miniforge3/envs/cuml/lib/python3.12/site-packages/cudf/pandas/fast_slow_proxy.py:28: UserWarning: Could not infer format, so each element will be parsed individually, falling back to `dateutil`. To ensure parsing is consistent and as-expected, please specify a format.\n",
      "  return fn(*args, **kwargs)\n",
      "/home/mojtaba/miniforge3/envs/cuml/lib/python3.12/site-packages/cudf/pandas/fast_slow_proxy.py:28: UserWarning: Could not infer format, so each element will be parsed individually, falling back to `dateutil`. To ensure parsing is consistent and as-expected, please specify a format.\n",
      "  return fn(*args, **kwargs)\n",
      "/home/mojtaba/miniforge3/envs/cuml/lib/python3.12/site-packages/cudf/pandas/fast_slow_proxy.py:28: UserWarning: Could not infer format, so each element will be parsed individually, falling back to `dateutil`. To ensure parsing is consistent and as-expected, please specify a format.\n",
      "  return fn(*args, **kwargs)\n",
      "/home/mojtaba/miniforge3/envs/cuml/lib/python3.12/site-packages/cudf/pandas/fast_slow_proxy.py:28: UserWarning: Could not infer format, so each element will be parsed individually, falling back to `dateutil`. To ensure parsing is consistent and as-expected, please specify a format.\n",
      "  return fn(*args, **kwargs)\n"
     ]
    },
    {
     "name": "stdout",
     "output_type": "stream",
     "text": [
      "Built 24 features\n",
      "Elapsed: 00:20 | Progress:  95%|█████████▍"
     ]
    }
   ],
   "execution_count": null
  },
  {
   "metadata": {},
   "cell_type": "code",
   "outputs": [],
   "execution_count": null,
   "source": "",
   "id": "991da9775c605c24"
  }
 ],
 "metadata": {
  "kernelspec": {
   "display_name": "Python 3",
   "language": "python",
   "name": "python3"
  },
  "language_info": {
   "codemirror_mode": {
    "name": "ipython",
    "version": 2
   },
   "file_extension": ".py",
   "mimetype": "text/x-python",
   "name": "python",
   "nbconvert_exporter": "python",
   "pygments_lexer": "ipython2",
   "version": "2.7.6"
  }
 },
 "nbformat": 4,
 "nbformat_minor": 5
}
