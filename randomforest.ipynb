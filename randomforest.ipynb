{
 "cells": [
  {
   "cell_type": "code",
   "id": "initial_id",
   "metadata": {
    "collapsed": true,
    "ExecuteTime": {
     "end_time": "2025-06-07T06:21:49.944140Z",
     "start_time": "2025-06-07T06:21:29.643354Z"
    }
   },
   "source": [
    "import pandas as pd\n",
    "import train\n",
    "\n",
    "df = pd.read_csv('cleaneddata.csv')\n",
    "# df"
   ],
   "outputs": [
    {
     "name": "stderr",
     "output_type": "stream",
     "text": [
      "/var/folders/_4/yzd4h3k95051tj7kpg425rk80000gn/T/ipykernel_82126/3936584759.py:4: DtypeWarning: Columns (11,24) have mixed types. Specify dtype option on import or set low_memory=False.\n",
      "  df = pd.read_csv('cleaneddata.csv')\n"
     ]
    }
   ],
   "execution_count": 7
  },
  {
   "metadata": {
    "ExecuteTime": {
     "end_time": "2025-06-07T06:16:45.231868Z",
     "start_time": "2025-06-07T06:16:45.223561Z"
    }
   },
   "cell_type": "code",
   "source": [
    "print(\"Column 11 name:\", df.columns[11])\n",
    "print(\"Column 24 name:\", df.columns[24])"
   ],
   "id": "5d5662df1a6e7d33",
   "outputs": [
    {
     "name": "stdout",
     "output_type": "stream",
     "text": [
      "Column 11 name: DateOfCancel\n",
      "Column 24 name: cancel_timing\n"
     ]
    }
   ],
   "execution_count": 3
  },
  {
   "metadata": {
    "ExecuteTime": {
     "end_time": "2025-06-07T06:50:37.474492Z",
     "start_time": "2025-06-07T06:50:37.418657Z"
    }
   },
   "cell_type": "code",
   "source": [
    "pd.set_option('display.max_columns', None)\n",
    "\n",
    "print(df.head())"
   ],
   "id": "1070c977d3dcd3be",
   "outputs": [
    {
     "name": "stdout",
     "output_type": "stream",
     "text": [
      "          DateOfOrder   OrderId                     TransactionId  \\\n",
      "0 2019-12-02 20:39:46  11161800  5fff5813ae674809a06e3b1fe5528fcf   \n",
      "1 2019-12-02 20:39:46  11161801  7c4f0e97356e46669abefe8dc5fb0ff0   \n",
      "2 2019-12-03 22:29:24  11166739  ee1d1a4a7458414a8bb420111ba0fa8c   \n",
      "3 2019-12-04 13:27:22  11169532  86497dc4e7434b838a335c439325fb65   \n",
      "4 2019-12-04 13:27:22  11169533  6054345ad0b14bd297dbdc6372ff1488   \n",
      "\n",
      "  DateOfService  OrderQty          MenuName  MenuPrice  MenuSubsidy  \\\n",
      "0    2020-01-02         1  Mittagessen (BS)       3.05          0.0   \n",
      "1    2020-01-03         1  Mittagessen (BS)       3.05          0.0   \n",
      "2    2020-01-02         1  Mittagessen (BS)       3.05          0.0   \n",
      "3    2020-01-02         1  Mittagessen (BS)       3.05          0.0   \n",
      "4    2020-01-03         1  Mittagessen (BS)       3.05          0.0   \n",
      "\n",
      "       BookingNr       GroupName  CanceledQty DateOfCancel Site SchoolID  \\\n",
      "0  474-136052114  Bad Sassendorf            0          NaN   LP   SCH003   \n",
      "1  474-136052114  Bad Sassendorf            0          NaN   LP   SCH003   \n",
      "2  474-136060130  Bad Sassendorf            0          NaN   LP   SCH003   \n",
      "3  474-136047096  Bad Sassendorf            0          NaN   LP   SCH003   \n",
      "4  474-136047096  Bad Sassendorf            0          NaN   LP   SCH003   \n",
      "\n",
      "   net_qty  days_to_cancel          MenuNorm     MenuBase MenuCode  \\\n",
      "0        1              -1  MITTAGESSEN (BS)  MITTAGESSEN       BS   \n",
      "1        1              -1  MITTAGESSEN (BS)  MITTAGESSEN       BS   \n",
      "2        1              -1  MITTAGESSEN (BS)  MITTAGESSEN       BS   \n",
      "3        1              -1  MITTAGESSEN (BS)  MITTAGESSEN       BS   \n",
      "4        1              -1  MITTAGESSEN (BS)  MITTAGESSEN       BS   \n",
      "\n",
      "   day_of_year  weekday  is_weekend   sin_doy   cos_doy cancel_timing  \\\n",
      "0          336        1           0 -0.963471 -0.267814           NaN   \n",
      "1          336        1           0 -0.963471 -0.267814           NaN   \n",
      "2          337        2           0 -0.963471 -0.267814           NaN   \n",
      "3          338        3           0 -0.963471 -0.267814           NaN   \n",
      "4          338        3           0 -0.963471 -0.267814           NaN   \n",
      "\n",
      "   subsidy_pct  month  quarter  day_of_month  is_month_end  is_month_start  \\\n",
      "0          0.0     12        4             2             0               0   \n",
      "1          0.0     12        4             2             0               0   \n",
      "2          0.0     12        4             3             0               0   \n",
      "3          0.0     12        4             4             0               0   \n",
      "4          0.0     12        4             4             0               0   \n",
      "\n",
      "   order_hour  morning  afternoon  evening  hist_cancel_rate  is_holiday  \n",
      "0          20        0          0        1            1.0499           0  \n",
      "1          20        0          0        1            1.0499           0  \n",
      "2          22        0          0        1            1.0499           0  \n",
      "3          13        0          1        0            1.0499           0  \n",
      "4          13        0          1        0            1.0499           0  \n"
     ]
    }
   ],
   "execution_count": 39
  },
  {
   "metadata": {
    "jupyter": {
     "is_executing": true
    }
   },
   "cell_type": "code",
   "source": [
    "holiday= df[df['is_holiday']== 1]\n",
    "holiday"
   ],
   "id": "5085593a43cd687f",
   "outputs": [],
   "execution_count": null
  },
  {
   "metadata": {
    "ExecuteTime": {
     "end_time": "2025-06-07T06:41:56.200229Z",
     "start_time": "2025-06-07T06:41:54.217021Z"
    }
   },
   "cell_type": "code",
   "source": [
    "# checking if there is still cases remaing wich have Dateofservice before dateoforder\n",
    "\n",
    "df['DateOfOrder'] = pd.to_datetime(df['DateOfOrder'])\n",
    "df['DateOfService'] = pd.to_datetime(df['DateOfService'])\n",
    "\n",
    "filtered_df = df[df['DateOfService'] < df['DateOfOrder'].dt.date]\n"
   ],
   "id": "b919a0332e29c3b8",
   "outputs": [],
   "execution_count": 38
  }
 ],
 "metadata": {
  "kernelspec": {
   "display_name": "Python 3",
   "language": "python",
   "name": "python3"
  },
  "language_info": {
   "codemirror_mode": {
    "name": "ipython",
    "version": 2
   },
   "file_extension": ".py",
   "mimetype": "text/x-python",
   "name": "python",
   "nbconvert_exporter": "python",
   "pygments_lexer": "ipython2",
   "version": "2.7.6"
  }
 },
 "nbformat": 4,
 "nbformat_minor": 5
}
